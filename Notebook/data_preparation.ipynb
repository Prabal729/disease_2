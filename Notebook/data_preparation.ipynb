{
 "cells": [
  {
   "cell_type": "code",
   "execution_count": 19,
   "id": "e5a7c3a5",
   "metadata": {},
   "outputs": [],
   "source": [
    "# %%\n",
    "import os, sys, warnings, logging, random, joblib\n",
    "import numpy as np, pandas as pd\n",
    "from pathlib import Path\n",
    "\n",
    "warnings.filterwarnings(\"ignore\")\n",
    "\n",
    "# Reproducibility\n",
    "SEED = 42\n",
    "np.random.seed(SEED)\n",
    "random.seed(SEED)"
   ]
  },
  {
   "cell_type": "code",
   "execution_count": 20,
   "id": "fd55159e",
   "metadata": {},
   "outputs": [],
   "source": [
    "\n",
    "# Paths\n",
    "ROOT   = Path.cwd().parent if Path.cwd().name.lower() == \"notebook\" else Path.cwd()\n",
    "RAW    = ROOT / \"data\" / \"raw\"\n",
    "PROC   = ROOT / \"data\" / \"processed\"\n",
    "PROC.mkdir(parents=True, exist_ok=True)\n",
    "\n",
    "# Basic logging\n",
    "logging.basicConfig(\n",
    "    level=logging.INFO,\n",
    "    format=\"%(asctime)s | %(levelname)s | %(message)s\",\n",
    "    handlers=[logging.StreamHandler(sys.stdout)],\n",
    ")\n"
   ]
  },
  {
   "cell_type": "code",
   "execution_count": 21,
   "id": "0b5c1600",
   "metadata": {},
   "outputs": [
    {
     "name": "stdout",
     "output_type": "stream",
     "text": [
      "2025-08-27 21:47:35,732 | INFO | Train shape : (4920, 133)\n",
      "2025-08-27 21:47:35,737 | INFO | Test  shape : (42, 133)\n"
     ]
    }
   ],
   "source": [
    "train_path  = RAW / \"Training.csv\"\n",
    "test_path   = RAW / \"Testing.csv\"\n",
    "\n",
    "assert train_path.exists(), f\"Training file not found: {train_path}\"\n",
    "assert test_path.exists(),  f\"Testing  file not found: {test_path}\"\n",
    "\n",
    "train_df = pd.read_csv(train_path)\n",
    "test_df  = pd.read_csv(test_path)\n",
    "\n",
    "# Drop unnamed extra index columns that may appear if CSV saved with indices\n",
    "train_df = train_df.loc[:, ~train_df.columns.str.contains('^Unnamed')]\n",
    "test_df = test_df.loc[:, ~test_df.columns.str.contains('^Unnamed')]\n",
    "\n",
    "logging.info(f\"Train shape : {train_df.shape}\")\n",
    "logging.info(f\"Test  shape : {test_df.shape}\")\n"
   ]
  },
  {
   "cell_type": "code",
   "execution_count": 22,
   "id": "09c052e9",
   "metadata": {},
   "outputs": [
    {
     "name": "stdout",
     "output_type": "stream",
     "text": [
      "2025-08-27 21:47:35,786 | INFO | Actual train_df columns count: 133\n"
     ]
    },
    {
     "data": {
      "text/html": [
       "<div>\n",
       "<style scoped>\n",
       "    .dataframe tbody tr th:only-of-type {\n",
       "        vertical-align: middle;\n",
       "    }\n",
       "\n",
       "    .dataframe tbody tr th {\n",
       "        vertical-align: top;\n",
       "    }\n",
       "\n",
       "    .dataframe thead th {\n",
       "        text-align: right;\n",
       "    }\n",
       "</style>\n",
       "<table border=\"1\" class=\"dataframe\">\n",
       "  <thead>\n",
       "    <tr style=\"text-align: right;\">\n",
       "      <th></th>\n",
       "      <th>count</th>\n",
       "      <th>unique</th>\n",
       "      <th>pct_missing</th>\n",
       "    </tr>\n",
       "  </thead>\n",
       "  <tbody>\n",
       "    <tr>\n",
       "      <th>itching</th>\n",
       "      <td>4920.0</td>\n",
       "      <td>NaN</td>\n",
       "      <td>0.0</td>\n",
       "    </tr>\n",
       "    <tr>\n",
       "      <th>skin_rash</th>\n",
       "      <td>4920.0</td>\n",
       "      <td>NaN</td>\n",
       "      <td>0.0</td>\n",
       "    </tr>\n",
       "    <tr>\n",
       "      <th>nodal_skin_eruptions</th>\n",
       "      <td>4920.0</td>\n",
       "      <td>NaN</td>\n",
       "      <td>0.0</td>\n",
       "    </tr>\n",
       "    <tr>\n",
       "      <th>continuous_sneezing</th>\n",
       "      <td>4920.0</td>\n",
       "      <td>NaN</td>\n",
       "      <td>0.0</td>\n",
       "    </tr>\n",
       "    <tr>\n",
       "      <th>shivering</th>\n",
       "      <td>4920.0</td>\n",
       "      <td>NaN</td>\n",
       "      <td>0.0</td>\n",
       "    </tr>\n",
       "  </tbody>\n",
       "</table>\n",
       "</div>"
      ],
      "text/plain": [
       "                       count unique pct_missing\n",
       "itching               4920.0    NaN         0.0\n",
       "skin_rash             4920.0    NaN         0.0\n",
       "nodal_skin_eruptions  4920.0    NaN         0.0\n",
       "continuous_sneezing   4920.0    NaN         0.0\n",
       "shivering             4920.0    NaN         0.0"
      ]
     },
     "metadata": {},
     "output_type": "display_data"
    },
    {
     "name": "stdout",
     "output_type": "stream",
     "text": [
      "2025-08-27 21:47:36,883 | INFO | Any NA in train_df? False\n"
     ]
    }
   ],
   "source": [
    "EXPECTED_COLS = 133  # 132 symptoms + 1 prognosis\n",
    "\n",
    "logging.info(f\"Actual train_df columns count: {train_df.shape[1]}\")\n",
    "\n",
    "assert train_df.shape[1] == EXPECTED_COLS, f\"Unexpected columns count: {train_df.shape[1]}\"\n",
    "\n",
    "summary = (\n",
    "    train_df.describe(include=\"all\")\n",
    "            .T[[\"count\", \"unique\"]]\n",
    "            .assign(\n",
    "                pct_missing=lambda d: 100 - (d[\"count\"] / len(train_df) * 100)\n",
    "            )\n",
    ")\n",
    "\n",
    "display(summary.head())\n",
    "logging.info(f\"Any NA in train_df? {train_df.isna().values.any()}\")\n",
    "\n",
    "# Fill missing symptom values with 0 (assume missing means symptom absent)\n",
    "if train_df.isna().values.any():\n",
    "    train_df.fillna(0, inplace=True)\n",
    "    logging.info(\"Filled missing values with 0 in train_df.\")\n",
    "\n",
    "if test_df.isna().values.any():\n",
    "    test_df.fillna(0, inplace=True)\n",
    "    logging.info(\"Filled missing values with 0 in test_df.\")"
   ]
  },
  {
   "cell_type": "code",
   "execution_count": 23,
   "id": "a56d1a1e",
   "metadata": {},
   "outputs": [
    {
     "name": "stdout",
     "output_type": "stream",
     "text": [
      "2025-08-27 21:47:36,963 | INFO | Encoded target classes: 41\n"
     ]
    }
   ],
   "source": [
    "from sklearn.preprocessing import LabelEncoder\n",
    "\n",
    "le = LabelEncoder()\n",
    "train_df[\"prognosis\"] = le.fit_transform(train_df[\"prognosis\"])\n",
    "test_df[\"prognosis\"]  = le.transform(test_df[\"prognosis\"])\n",
    "\n",
    "joblib.dump(le, PROC / \"label_encoder.pkl\")\n",
    "\n",
    "logging.info(f\"Encoded target classes: {len(le.classes_)}\")\n"
   ]
  },
  {
   "cell_type": "code",
   "execution_count": 24,
   "id": "6b2f98ac",
   "metadata": {},
   "outputs": [],
   "source": [
    "# Convert symptom strings to 0/1 integer if necessary\n",
    "symptom_cols = train_df.columns.difference([\"prognosis\"])\n",
    "\n",
    "for col in symptom_cols:\n",
    "    if train_df[col].dtype == object:\n",
    "        train_df[col] = train_df[col].replace({\n",
    "            \"present\": 1, \"absent\": 0, \"yes\": 1, \"no\": 0\n",
    "        }).astype(int)\n",
    "        test_df[col] = test_df[col].replace({\n",
    "            \"present\": 1, \"absent\": 0, \"yes\": 1, \"no\": 0\n",
    "        }).astype(int)\n",
    "\n",
    "# Symptom count feature\n",
    "train_df[\"symptom_count\"] = train_df[symptom_cols].sum(axis=1)\n",
    "test_df[\"symptom_count\"] = test_df[symptom_cols].sum(axis=1)\n",
    "\n",
    "# Rare symptom flag (symptoms with <1% frequency)\n",
    "symptom_freq = train_df[symptom_cols].mean()\n",
    "rare_symptoms = symptom_freq[symptom_freq < 0.01].index.tolist()\n",
    "\n",
    "train_df[\"rare_symptom_flag\"] = train_df[rare_symptoms].any(axis=1).astype(int)\n",
    "test_df[\"rare_symptom_flag\"] = test_df[rare_symptoms].any(axis=1).astype(int)"
   ]
  },
  {
   "cell_type": "code",
   "execution_count": 25,
   "id": "59192eb3",
   "metadata": {},
   "outputs": [
    {
     "name": "stdout",
     "output_type": "stream",
     "text": [
      "2025-08-27 21:47:37,143 | INFO | Feature engineering done. Train shape now: (4920, 135)\n",
      "2025-08-27 21:47:37,198 | INFO | Train size: (3936, 134), Valid size: (984, 134)\n"
     ]
    }
   ],
   "source": [
    "# Interaction term example: fever AND cough if available\n",
    "if {\"fever\", \"cough\"}.issubset(symptom_cols):\n",
    "    train_df[\"fever_cough\"] = train_df[\"fever\"] & train_df[\"cough\"]\n",
    "    test_df[\"fever_cough\"] = test_df[\"fever\"] & test_df[\"cough\"]\n",
    "\n",
    "logging.info(f\"Feature engineering done. Train shape now: {train_df.shape}\")\n",
    "\n",
    "# %% [markdown]\n",
    "# # 6. Train/Validation Split\n",
    "\n",
    "# %%\n",
    "from sklearn.model_selection import train_test_split\n",
    "\n",
    "X = train_df.drop(\"prognosis\", axis=1)\n",
    "y = train_df[\"prognosis\"]\n",
    "\n",
    "X_train, X_valid, y_train, y_valid = train_test_split(\n",
    "    X, y, test_size=0.2, stratify=y, random_state=SEED\n",
    ")\n",
    "\n",
    "logging.info(f\"Train size: {X_train.shape}, Valid size: {X_valid.shape}\")\n"
   ]
  },
  {
   "cell_type": "code",
   "execution_count": 26,
   "id": "a2f4994e",
   "metadata": {},
   "outputs": [
    {
     "name": "stdout",
     "output_type": "stream",
     "text": [
      "2025-08-27 21:47:37,639 | INFO | Processed data saved to data/processed/ directory\n"
     ]
    }
   ],
   "source": [
    "X_train.to_csv(PROC / \"X_train.csv\", index=False)\n",
    "X_valid.to_csv(PROC / \"X_valid.csv\", index=False)\n",
    "y_train.to_csv(PROC / \"y_train.csv\", index=False)\n",
    "y_valid.to_csv(PROC / \"y_valid.csv\", index=False)\n",
    "test_df.to_csv(PROC / \"test_processed.csv\", index=False)\n",
    "\n",
    "logging.info(\"Processed data saved to data/processed/ directory\")"
   ]
  },
  {
   "cell_type": "code",
   "execution_count": null,
   "id": "1d88e347",
   "metadata": {},
   "outputs": [],
   "source": []
  }
 ],
 "metadata": {
  "kernelspec": {
   "display_name": "venv",
   "language": "python",
   "name": "python3"
  },
  "language_info": {
   "codemirror_mode": {
    "name": "ipython",
    "version": 3
   },
   "file_extension": ".py",
   "mimetype": "text/x-python",
   "name": "python",
   "nbconvert_exporter": "python",
   "pygments_lexer": "ipython3",
   "version": "3.10.11"
  }
 },
 "nbformat": 4,
 "nbformat_minor": 5
}
